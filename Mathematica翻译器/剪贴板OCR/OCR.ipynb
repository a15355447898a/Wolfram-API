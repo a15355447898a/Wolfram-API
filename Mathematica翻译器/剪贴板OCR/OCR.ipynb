{
 "metadata": {
  "language_info": {
   "codemirror_mode": {
    "name": "ipython",
    "version": 3
   },
   "file_extension": ".py",
   "mimetype": "text/x-python",
   "name": "python",
   "nbconvert_exporter": "python",
   "pygments_lexer": "ipython3",
   "version": "3.8.3-final"
  },
  "orig_nbformat": 2,
  "kernelspec": {
   "name": "python3",
   "display_name": "Python 3",
   "language": "python"
  }
 },
 "nbformat": 4,
 "nbformat_minor": 2,
 "cells": [
  {
   "source": [
    "import json\n",
    "import requests\n",
    "import base64\n",
    "import urllib.parse\n",
    "from PIL import Image, ImageGrab\n",
    "import re\n",
    "\n",
    "APP_ID = '19166123'\n",
    "API_KEY ='Nw6CPD3exncAAVZ3UF4Hfpz6'\n",
    "SECRECT_KEY = 'WSAVSETPg0GOAiNyq70kRTF996XSVxix'\n",
    "\n",
    "# 获取token\n",
    "url = 'https://aip.baidubce.com/oauth/2.0/token'\n",
    "body = {'grant_type': 'client_credentials',\n",
    "        'client_id': API_KEY,\n",
    "        'client_secret': SECRECT_KEY\n",
    "        }\n",
    "\n",
    "req = requests.post(url=url, data=body)\n",
    "token = json.loads(req.content)['access_token']\n",
    "\n",
    "# 获取百度api识别结果\n",
    "ocr_url = 'https://aip.baidubce.com/rest/2.0/ocr/v1/general_basic?access_token=%s'%token\n",
    "headers = {'Content-Type': 'application/x-www-form-urlencoded'}\n",
    "\n",
    "# 读取图片并进行base64加密\n",
    "im = ImageGrab.grabclipboard()\n",
    "im.save('P:\\\\Users\\\\a1535\\\\Desktop\\\\Mathematica翻译器\\\\剪贴板OCR\\\\OCR.png')\n",
    "body = base64.b64encode(open('P:\\\\Users\\\\a1535\\\\Desktop\\\\Mathematica翻译器\\\\剪贴板OCR\\\\OCR.png' ,'rb').read())\n",
    "\n",
    "# 进行urlencode\n",
    "data = urllib.parse.urlencode({'image': body})\n",
    "\n",
    "# post请求\n",
    "r = requests.post(url=ocr_url, headers=headers, data=data)\n",
    "\n",
    "# 输出请求结果\n",
    "res_words = json.loads(r.content)['words_result']\n",
    "sentence=\"\"\n",
    "for word in res_words:\n",
    "    sentence += word['words']+\"\\n\"\n",
    "print('%s' % sentence)"
   ],
   "cell_type": "code",
   "metadata": {},
   "execution_count": null,
   "outputs": []
  },
  {
   "cell_type": "code",
   "execution_count": null,
   "metadata": {},
   "outputs": [],
   "source": []
  }
 ]
}